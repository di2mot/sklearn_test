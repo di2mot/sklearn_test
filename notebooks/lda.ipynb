{
 "cells": [
  {
   "cell_type": "markdown",
   "source": [
    "# Latent Dirichlet Allocation (LDA) Implementation"
   ],
   "metadata": {
    "collapsed": false
   },
   "id": "8aefa972af5585c8"
  },
  {
   "cell_type": "markdown",
   "source": [
    "Latent Dirichlet Allocation is a generative probabilistic model for collections of discrete dataset such as text corpora. It is also a topic model that is used for discovering abstract topics from a collection of documents."
   ],
   "metadata": {
    "collapsed": false
   },
   "id": "cfc3b7dbb8f5fd79"
  },
  {
   "cell_type": "markdown",
   "source": [
    "# Import necessary libraries"
   ],
   "metadata": {
    "collapsed": false
   },
   "id": "708376bf25e6483"
  },
  {
   "cell_type": "code",
   "execution_count": 2,
   "outputs": [],
   "source": [
    "import numpy as np\n",
    "import pandas as pd\n",
    "from sklearn.feature_extraction.text import CountVectorizer\n",
    "from sklearn.decomposition import LatentDirichletAllocation\n",
    "from sklearn.datasets import fetch_20newsgroups"
   ],
   "metadata": {
    "collapsed": false,
    "ExecuteTime": {
     "end_time": "2024-01-07T17:19:40.929705400Z",
     "start_time": "2024-01-07T17:19:40.924191100Z"
    }
   },
   "id": "cdf0efa80125634e"
  },
  {
   "cell_type": "markdown",
   "source": [
    "# Load a sample dataset (20 newsgroups)"
   ],
   "metadata": {
    "collapsed": false
   },
   "id": "b6a5c05c77ae0ff2"
  },
  {
   "cell_type": "code",
   "execution_count": 3,
   "outputs": [],
   "source": [
    "data = fetch_20newsgroups(subset='all', shuffle=True, random_state=42)\n",
    "documents = data.data"
   ],
   "metadata": {
    "collapsed": false,
    "ExecuteTime": {
     "end_time": "2024-01-07T17:20:54.950778700Z",
     "start_time": "2024-01-07T17:19:41.952247500Z"
    }
   },
   "id": "4e878afedb41f349"
  },
  {
   "cell_type": "markdown",
   "source": [
    "# Text preprocessing and vectorization"
   ],
   "metadata": {
    "collapsed": false
   },
   "id": "26d196fd393b46d5"
  },
  {
   "cell_type": "code",
   "execution_count": 4,
   "outputs": [],
   "source": [
    "vectorizer = CountVectorizer(max_features=1000, stop_words='english')\n",
    "X = vectorizer.fit_transform(documents)"
   ],
   "metadata": {
    "collapsed": false,
    "ExecuteTime": {
     "end_time": "2024-01-07T17:21:04.762644Z",
     "start_time": "2024-01-07T17:21:02.088900700Z"
    }
   },
   "id": "61d3a5789d3d6d21"
  },
  {
   "cell_type": "markdown",
   "source": [
    "# LDA Initialization and Training"
   ],
   "metadata": {
    "collapsed": false
   },
   "id": "2a5b6fcb1de371cf"
  },
  {
   "cell_type": "code",
   "execution_count": 5,
   "outputs": [
    {
     "data": {
      "text/plain": "LatentDirichletAllocation(random_state=42)",
      "text/html": "<style>#sk-container-id-1 {color: black;}#sk-container-id-1 pre{padding: 0;}#sk-container-id-1 div.sk-toggleable {background-color: white;}#sk-container-id-1 label.sk-toggleable__label {cursor: pointer;display: block;width: 100%;margin-bottom: 0;padding: 0.3em;box-sizing: border-box;text-align: center;}#sk-container-id-1 label.sk-toggleable__label-arrow:before {content: \"▸\";float: left;margin-right: 0.25em;color: #696969;}#sk-container-id-1 label.sk-toggleable__label-arrow:hover:before {color: black;}#sk-container-id-1 div.sk-estimator:hover label.sk-toggleable__label-arrow:before {color: black;}#sk-container-id-1 div.sk-toggleable__content {max-height: 0;max-width: 0;overflow: hidden;text-align: left;background-color: #f0f8ff;}#sk-container-id-1 div.sk-toggleable__content pre {margin: 0.2em;color: black;border-radius: 0.25em;background-color: #f0f8ff;}#sk-container-id-1 input.sk-toggleable__control:checked~div.sk-toggleable__content {max-height: 200px;max-width: 100%;overflow: auto;}#sk-container-id-1 input.sk-toggleable__control:checked~label.sk-toggleable__label-arrow:before {content: \"▾\";}#sk-container-id-1 div.sk-estimator input.sk-toggleable__control:checked~label.sk-toggleable__label {background-color: #d4ebff;}#sk-container-id-1 div.sk-label input.sk-toggleable__control:checked~label.sk-toggleable__label {background-color: #d4ebff;}#sk-container-id-1 input.sk-hidden--visually {border: 0;clip: rect(1px 1px 1px 1px);clip: rect(1px, 1px, 1px, 1px);height: 1px;margin: -1px;overflow: hidden;padding: 0;position: absolute;width: 1px;}#sk-container-id-1 div.sk-estimator {font-family: monospace;background-color: #f0f8ff;border: 1px dotted black;border-radius: 0.25em;box-sizing: border-box;margin-bottom: 0.5em;}#sk-container-id-1 div.sk-estimator:hover {background-color: #d4ebff;}#sk-container-id-1 div.sk-parallel-item::after {content: \"\";width: 100%;border-bottom: 1px solid gray;flex-grow: 1;}#sk-container-id-1 div.sk-label:hover label.sk-toggleable__label {background-color: #d4ebff;}#sk-container-id-1 div.sk-serial::before {content: \"\";position: absolute;border-left: 1px solid gray;box-sizing: border-box;top: 0;bottom: 0;left: 50%;z-index: 0;}#sk-container-id-1 div.sk-serial {display: flex;flex-direction: column;align-items: center;background-color: white;padding-right: 0.2em;padding-left: 0.2em;position: relative;}#sk-container-id-1 div.sk-item {position: relative;z-index: 1;}#sk-container-id-1 div.sk-parallel {display: flex;align-items: stretch;justify-content: center;background-color: white;position: relative;}#sk-container-id-1 div.sk-item::before, #sk-container-id-1 div.sk-parallel-item::before {content: \"\";position: absolute;border-left: 1px solid gray;box-sizing: border-box;top: 0;bottom: 0;left: 50%;z-index: -1;}#sk-container-id-1 div.sk-parallel-item {display: flex;flex-direction: column;z-index: 1;position: relative;background-color: white;}#sk-container-id-1 div.sk-parallel-item:first-child::after {align-self: flex-end;width: 50%;}#sk-container-id-1 div.sk-parallel-item:last-child::after {align-self: flex-start;width: 50%;}#sk-container-id-1 div.sk-parallel-item:only-child::after {width: 0;}#sk-container-id-1 div.sk-dashed-wrapped {border: 1px dashed gray;margin: 0 0.4em 0.5em 0.4em;box-sizing: border-box;padding-bottom: 0.4em;background-color: white;}#sk-container-id-1 div.sk-label label {font-family: monospace;font-weight: bold;display: inline-block;line-height: 1.2em;}#sk-container-id-1 div.sk-label-container {text-align: center;}#sk-container-id-1 div.sk-container {/* jupyter's `normalize.less` sets `[hidden] { display: none; }` but bootstrap.min.css set `[hidden] { display: none !important; }` so we also need the `!important` here to be able to override the default hidden behavior on the sphinx rendered scikit-learn.org. See: https://github.com/scikit-learn/scikit-learn/issues/21755 */display: inline-block !important;position: relative;}#sk-container-id-1 div.sk-text-repr-fallback {display: none;}</style><div id=\"sk-container-id-1\" class=\"sk-top-container\"><div class=\"sk-text-repr-fallback\"><pre>LatentDirichletAllocation(random_state=42)</pre><b>In a Jupyter environment, please rerun this cell to show the HTML representation or trust the notebook. <br />On GitHub, the HTML representation is unable to render, please try loading this page with nbviewer.org.</b></div><div class=\"sk-container\" hidden><div class=\"sk-item\"><div class=\"sk-estimator sk-toggleable\"><input class=\"sk-toggleable__control sk-hidden--visually\" id=\"sk-estimator-id-1\" type=\"checkbox\" checked><label for=\"sk-estimator-id-1\" class=\"sk-toggleable__label sk-toggleable__label-arrow\">LatentDirichletAllocation</label><div class=\"sk-toggleable__content\"><pre>LatentDirichletAllocation(random_state=42)</pre></div></div></div></div></div>"
     },
     "execution_count": 5,
     "metadata": {},
     "output_type": "execute_result"
    }
   ],
   "source": [
    "lda = LatentDirichletAllocation(n_components=10, random_state=42)\n",
    "\n",
    "# Fit LDA on the document-term matrix\n",
    "lda.fit(X)"
   ],
   "metadata": {
    "collapsed": false,
    "ExecuteTime": {
     "end_time": "2024-01-07T17:22:19.642201700Z",
     "start_time": "2024-01-07T17:21:25.299909600Z"
    }
   },
   "id": "c3655b35993fc9a2"
  },
  {
   "cell_type": "markdown",
   "source": [
    "# Display the top words for each topic"
   ],
   "metadata": {
    "collapsed": false
   },
   "id": "d9ad5183f94cc695"
  },
  {
   "cell_type": "code",
   "execution_count": 6,
   "outputs": [
    {
     "name": "stdout",
     "output_type": "stream",
     "text": [
      "Topic #1: com, lines, subject, organization, writes, article, space, nasa, posting, gov\n",
      "Topic #2: file, windows, use, dos, program, image, files, available, window, ftp\n",
      "Topic #3: ax, max, g9v, b8f, a86, 145, pl, 1d9, 0d, db\n",
      "Topic #4: com, writes, article, lines, subject, organization, just, edu, don, like\n",
      "Topic #5: government, people, israel, gun, president, law, state, new, war, armenian\n",
      "Topic #6: edu, subject, lines, organization, university, posting, host, nntp, uk, ac\n",
      "Topic #7: god, people, don, think, know, say, just, like, does, believe\n",
      "Topic #8: edu, writes, article, organization, subject, lines, university, cs, posting, host\n",
      "Topic #9: drive, key, use, chip, card, scsi, bit, encryption, clipper, disk\n",
      "Topic #10: 10, 00, game, team, 25, 15, 20, 12, 1993, games\n"
     ]
    }
   ],
   "source": [
    "feature_names = np.array(vectorizer.get_feature_names_out())\n",
    "\n",
    "for topic_idx, topic in enumerate(lda.components_):\n",
    "    top_words_idx = topic.argsort()[:-10 - 1:-1]\n",
    "    top_words = feature_names[top_words_idx]\n",
    "    print(f\"Topic #{topic_idx + 1}: {', '.join(top_words)}\")"
   ],
   "metadata": {
    "collapsed": false,
    "ExecuteTime": {
     "end_time": "2024-01-07T17:22:55.497828500Z",
     "start_time": "2024-01-07T17:22:55.490146900Z"
    }
   },
   "id": "e97d433c4bc8ae40"
  },
  {
   "cell_type": "markdown",
   "source": [],
   "metadata": {
    "collapsed": false
   },
   "id": "711764d2c15325a3"
  }
 ],
 "metadata": {
  "kernelspec": {
   "display_name": "Python 3",
   "language": "python",
   "name": "python3"
  },
  "language_info": {
   "codemirror_mode": {
    "name": "ipython",
    "version": 2
   },
   "file_extension": ".py",
   "mimetype": "text/x-python",
   "name": "python",
   "nbconvert_exporter": "python",
   "pygments_lexer": "ipython2",
   "version": "2.7.6"
  }
 },
 "nbformat": 4,
 "nbformat_minor": 5
}
